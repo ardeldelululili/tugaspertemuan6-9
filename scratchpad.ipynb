{
  "cells": [
    {
      "cell_type": "markdown",
      "metadata": {
        "id": "view-in-github",
        "colab_type": "text"
      },
      "source": [
        "<a href=\"https://colab.research.google.com/github/ardeldelululili/tugaspertemuan6-9/blob/main/scratchpad.ipynb\" target=\"_parent\"><img src=\"https://colab.research.google.com/assets/colab-badge.svg\" alt=\"Open In Colab\"/></a>"
      ]
    },
    {
      "cell_type": "code",
      "execution_count": 7,
      "metadata": {
        "colab": {
          "base_uri": "https://localhost:8080/"
        },
        "id": "lIYdn1woOS1n",
        "outputId": "b6b7c3e5-5f58-4c8d-b385-6933bd0bced6"
      },
      "outputs": [
        {
          "output_type": "stream",
          "name": "stdout",
          "text": [
            "Requirement already satisfied: kaggle in /usr/local/lib/python3.10/dist-packages (1.6.14)\n",
            "Requirement already satisfied: six>=1.10 in /usr/local/lib/python3.10/dist-packages (from kaggle) (1.16.0)\n",
            "Requirement already satisfied: certifi>=2023.7.22 in /usr/local/lib/python3.10/dist-packages (from kaggle) (2024.6.2)\n",
            "Requirement already satisfied: python-dateutil in /usr/local/lib/python3.10/dist-packages (from kaggle) (2.8.2)\n",
            "Requirement already satisfied: requests in /usr/local/lib/python3.10/dist-packages (from kaggle) (2.31.0)\n",
            "Requirement already satisfied: tqdm in /usr/local/lib/python3.10/dist-packages (from kaggle) (4.66.4)\n",
            "Requirement already satisfied: python-slugify in /usr/local/lib/python3.10/dist-packages (from kaggle) (8.0.4)\n",
            "Requirement already satisfied: urllib3 in /usr/local/lib/python3.10/dist-packages (from kaggle) (2.0.7)\n",
            "Requirement already satisfied: bleach in /usr/local/lib/python3.10/dist-packages (from kaggle) (6.1.0)\n",
            "Requirement already satisfied: webencodings in /usr/local/lib/python3.10/dist-packages (from bleach->kaggle) (0.5.1)\n",
            "Requirement already satisfied: text-unidecode>=1.3 in /usr/local/lib/python3.10/dist-packages (from python-slugify->kaggle) (1.3)\n",
            "Requirement already satisfied: charset-normalizer<4,>=2 in /usr/local/lib/python3.10/dist-packages (from requests->kaggle) (3.3.2)\n",
            "Requirement already satisfied: idna<4,>=2.5 in /usr/local/lib/python3.10/dist-packages (from requests->kaggle) (3.7)\n"
          ]
        }
      ],
      "source": [
        "\n",
        "!pip install kaggle"
      ]
    },
    {
      "cell_type": "code",
      "source": [
        "import os\n",
        "os.environ['KAGGLE_USERNAME'] = 'nisrinakhansa'\n",
        "os.environ['KAGGLE_KEY'] = ' ~/.kaggle/kaggle.json'\n",
        "import kaggle"
      ],
      "metadata": {
        "id": "A4q8kUQfysDu"
      },
      "execution_count": 8,
      "outputs": []
    },
    {
      "cell_type": "code",
      "source": [
        "\n",
        "!kaggle datasets download -d shreyanshverma27/online-sales-dataset-popular-marketplace-data"
      ],
      "metadata": {
        "id": "tbHVFGsZyx0k",
        "outputId": "c85fa9ef-3a9d-42cb-e701-0b70a5d291b7",
        "colab": {
          "base_uri": "https://localhost:8080/"
        }
      },
      "execution_count": 9,
      "outputs": [
        {
          "output_type": "stream",
          "name": "stdout",
          "text": [
            "Dataset URL: https://www.kaggle.com/datasets/shreyanshverma27/online-sales-dataset-popular-marketplace-data\n",
            "License(s): CC0-1.0\n",
            "Downloading online-sales-dataset-popular-marketplace-data.zip to /content\n",
            "  0% 0.00/6.78k [00:00<?, ?B/s]\n",
            "100% 6.78k/6.78k [00:00<00:00, 11.6MB/s]\n"
          ]
        }
      ]
    },
    {
      "cell_type": "code",
      "source": [
        "from zipfile import ZipFile\n",
        "file_name = 'online-sales-dataset-popular-marketplace-data.zip'\n",
        "with ZipFile(file_name, 'r') as zip:\n",
        "  zip.extractall()\n",
        "  print('Done')"
      ],
      "metadata": {
        "id": "lMK8KhXvy2B8",
        "outputId": "aea36198-9b16-412e-efdc-80be5875e8e9",
        "colab": {
          "base_uri": "https://localhost:8080/"
        }
      },
      "execution_count": 10,
      "outputs": [
        {
          "output_type": "stream",
          "name": "stdout",
          "text": [
            "Done\n"
          ]
        }
      ]
    },
    {
      "cell_type": "code",
      "source": [
        "import pandas as pd\n",
        "\n",
        "# Buka file CSV yang di-ekstrak\n",
        "df = pd.read_csv('online-sales-dataset-popular-marketplace-data.zip')\n",
        "\n",
        "# Lihat isi file\n",
        "print(df.head(5))\n",
        ""
      ],
      "metadata": {
        "id": "aULGvZlBy5Ge",
        "outputId": "3561b1b0-2a71-4ac8-deb5-531de9636034",
        "colab": {
          "base_uri": "https://localhost:8080/"
        }
      },
      "execution_count": 11,
      "outputs": [
        {
          "output_type": "stream",
          "name": "stdout",
          "text": [
            "   Transaction ID        Date Product Category             Product Name  \\\n",
            "0           10001  2024-01-01      Electronics            iPhone 14 Pro   \n",
            "1           10002  2024-01-02  Home Appliances         Dyson V11 Vacuum   \n",
            "2           10003  2024-01-03         Clothing         Levi's 501 Jeans   \n",
            "3           10004  2024-01-04            Books        The Da Vinci Code   \n",
            "4           10005  2024-01-05  Beauty Products  Neutrogena Skincare Set   \n",
            "\n",
            "   Units Sold  Unit Price  Total Revenue         Region Payment Method  \n",
            "0           2      999.99        1999.98  North America    Credit Card  \n",
            "1           1      499.99         499.99         Europe         PayPal  \n",
            "2           3       69.99         209.97           Asia     Debit Card  \n",
            "3           4       15.99          63.96  North America    Credit Card  \n",
            "4           1       89.99          89.99         Europe         PayPal  \n"
          ]
        }
      ]
    }
  ],
  "metadata": {
    "colab": {
      "name": "scratchpad",
      "provenance": [],
      "include_colab_link": true
    },
    "kernelspec": {
      "display_name": "Python 3",
      "name": "python3"
    }
  },
  "nbformat": 4,
  "nbformat_minor": 0
}